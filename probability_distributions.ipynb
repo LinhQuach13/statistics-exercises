{
 "cells": [
  {
   "cell_type": "markdown",
   "metadata": {},
   "source": [
    "Exercises\n",
    "Do your work for this exercise in either a python script named probability_distributions.py or a jupyter notebook named probability_distributions.ipynb.\n",
    "\n",
    "For the following problems, use python to simulate the problem and calculate an experimental probability, then compare that to the theoretical probability.\n",
    "\n"
   ]
  },
  {
   "cell_type": "code",
   "execution_count": 2,
   "metadata": {},
   "outputs": [],
   "source": [
    "import matplotlib.pyplot as plt\n",
    "import numpy as np\n",
    "import pandas as pd\n",
    "from scipy import stats\n",
    "\n",
    "from env import host, user, password\n",
    "\n",
    "url = f'mysql+pymysql://{user}:{password}@{host}/employees'"
   ]
  },
  {
   "cell_type": "code",
   "execution_count": 3,
   "metadata": {},
   "outputs": [],
   "source": [
    "def get_db_url(host, user, password, database):\n",
    "    return f'mysql+pymysql://{user}:{password}@{host}/employees'"
   ]
  },
  {
   "cell_type": "code",
   "execution_count": 4,
   "metadata": {},
   "outputs": [],
   "source": [
    "url = get_db_url(host, user, password, 'employees')"
   ]
  },
  {
   "cell_type": "markdown",
   "metadata": {},
   "source": [
    "1. A bank found that the average number of cars waiting during the noon hour at a drive-up window follows a Poisson distribution with a mean of 2 cars. Make a chart of this distribution and answer these questions concerning the probability of cars waiting at the drive-up window.\n",
    "\n",
    "- What is the probability that no cars drive up in the noon hour?\n",
    "- What is the probability that 3 or more cars come through the drive through?\n",
    "- How likely is it that the drive through gets at least 1 car?"
   ]
  },
  {
   "cell_type": "code",
   "execution_count": 3,
   "metadata": {},
   "outputs": [
    {
     "data": {
      "text/plain": [
       "0.1353352832366127"
      ]
     },
     "execution_count": 3,
     "metadata": {},
     "output_type": "execute_result"
    }
   ],
   "source": [
    "#What is the probability that no cars drive up in the noon hour?\n",
    "λ= 2\n",
    "stats.poisson(λ)\n",
    "stats.poisson(λ).pmf(0)\n"
   ]
  },
  {
   "cell_type": "code",
   "execution_count": 4,
   "metadata": {},
   "outputs": [
    {
     "data": {
      "text/plain": [
       "0.32332358381693654"
      ]
     },
     "execution_count": 4,
     "metadata": {},
     "output_type": "execute_result"
    }
   ],
   "source": [
    "# What is the probability that 3 or more cars come through the drive through?\n",
    "stats.poisson(λ).sf(2)"
   ]
  },
  {
   "cell_type": "code",
   "execution_count": 5,
   "metadata": {},
   "outputs": [
    {
     "data": {
      "text/plain": [
       "0.8646647167633873"
      ]
     },
     "execution_count": 5,
     "metadata": {},
     "output_type": "execute_result"
    }
   ],
   "source": [
    "# How likely is it that the drive through gets at least 1 car?\n",
    "stats.poisson(λ).sf(0)"
   ]
  },
  {
   "cell_type": "markdown",
   "metadata": {},
   "source": [
    "2. Grades of State University graduates are normally distributed with a mean of 3.0 and a standard deviation of .3. Calculate the following:\n",
    "\n",
    "- What grade point average is required to be in the top 5% of the graduating class?\n",
    "- What GPA constitutes the bottom 15% of the class?\n",
    "- An eccentric alumnus left scholarship money for students in the third decile from the bottom of their class. Determine the range of the third decile. Would a student with a 2.8 grade point average qualify for this scholarship?\n",
    "- If I have a GPA of 3.5, what percentile am I in?\n",
    "\n"
   ]
  },
  {
   "cell_type": "code",
   "execution_count": 5,
   "metadata": {},
   "outputs": [
    {
     "data": {
      "text/plain": [
       "3.4934560880854417"
      ]
     },
     "execution_count": 5,
     "metadata": {},
     "output_type": "execute_result"
    }
   ],
   "source": [
    "# What grade point average is required to be in the top 5% of the graduating class?\n",
    "mean= 3.0\n",
    "std_dev= 0.30\n",
    "\n",
    "gpa= stats.norm(mean, std_dev)\n",
    "\n",
    "gpa.isf(0.05)"
   ]
  },
  {
   "cell_type": "code",
   "execution_count": 8,
   "metadata": {},
   "outputs": [
    {
     "data": {
      "text/plain": [
       "2.689069983151863"
      ]
     },
     "execution_count": 8,
     "metadata": {},
     "output_type": "execute_result"
    }
   ],
   "source": [
    "# What GPA constitutes the bottom 15% of the class?\n",
    "gpa.isf(0.85)"
   ]
  },
  {
   "cell_type": "code",
   "execution_count": 49,
   "metadata": {},
   "outputs": [
    {
     "name": "stdout",
     "output_type": "stream",
     "text": [
      "The range of gpa to receive the scholarship is, 2.7475136299281258 to 2.842679846187588 and yes a student with a 2.8 gpa will qualify\n"
     ]
    }
   ],
   "source": [
    "# An eccentric alumnus left scholarship money for students in the third decile (30th percent) from the \n",
    "#bottom of their class. Determine the range of the third decile. \n",
    "#Would a student with a 2.8 grade point average qualify for this scholarship?\n",
    "#ppf 30- ppf 20 will get answer\n",
    "#**** figure out sentence ****\n",
    "bottom_twenty= gpa.ppf(0.2)\n",
    "bottom_thirty= gpa.ppf(0.3)\n",
    "\n",
    "\n",
    "print(f'The range of gpa to receive the scholarship is, {bottom_twenty} to {bottom_thirty} and yes a student with a 2.8 gpa will qualify')\n",
    "\n",
    "\n"
   ]
  },
  {
   "cell_type": "markdown",
   "metadata": {},
   "source": [
    "- 1st decile: 0-10 percentile\n",
    "- 2nd decile: 10-20 percentile\n",
    "- 3rd decile: 20-30 percentile"
   ]
  },
  {
   "cell_type": "code",
   "execution_count": 48,
   "metadata": {},
   "outputs": [
    {
     "data": {
      "text/plain": [
       "0.0477903522728147"
      ]
     },
     "execution_count": 48,
     "metadata": {},
     "output_type": "execute_result"
    }
   ],
   "source": [
    "# If I have a GPA of 3.5, what percentile am I in?\n",
    "\n",
    "gpa.sf(3.5)"
   ]
  },
  {
   "cell_type": "markdown",
   "metadata": {},
   "source": [
    "3. A marketing website has an average click-through rate of 2%. One day they observe 4326 visitors and 97 click-throughs. How likely is it that this many people or more click through?\n"
   ]
  },
  {
   "cell_type": "code",
   "execution_count": 26,
   "metadata": {},
   "outputs": [
    {
     "data": {
      "text/plain": [
       "0.022422561257512713"
      ]
     },
     "execution_count": 26,
     "metadata": {},
     "output_type": "execute_result"
    }
   ],
   "source": [
    "avg_click_rate= 0.02 * 4326\n",
    "visitors = 4326\n",
    "click_thrus= 97\n",
    "\n",
    "test_rate= click_thrus/visitors\n",
    "\n",
    "test_rate"
   ]
  },
  {
   "cell_type": "code",
   "execution_count": 23,
   "metadata": {},
   "outputs": [],
   "source": [
    "marketing = stats.poisson(avg_click_rate)"
   ]
  },
  {
   "cell_type": "code",
   "execution_count": 29,
   "metadata": {},
   "outputs": [
    {
     "data": {
      "text/plain": [
       "0.14211867659283192"
      ]
     },
     "execution_count": 29,
     "metadata": {},
     "output_type": "execute_result"
    }
   ],
   "source": [
    "likelyhood = marketing.sf(click_thrus-1)\n",
    "likelyhood"
   ]
  },
  {
   "cell_type": "code",
   "execution_count": 30,
   "metadata": {},
   "outputs": [
    {
     "data": {
      "text/plain": [
       "0.1397582363130086"
      ]
     },
     "execution_count": 30,
     "metadata": {},
     "output_type": "execute_result"
    }
   ],
   "source": [
    "n_trials= 4326\n",
    "p= 0.02\n",
    "ct_data= stats.binom(n_trials, p)\n",
    "\n",
    "likely= ct_data.sf(click_thrus-1)\n",
    "\n",
    "likely"
   ]
  },
  {
   "cell_type": "code",
   "execution_count": null,
   "metadata": {},
   "outputs": [],
   "source": [
    "#answer: 13.98%"
   ]
  },
  {
   "cell_type": "markdown",
   "metadata": {},
   "source": [
    "4. You are working on some statistics homework consisting of 100 questions where all of the answers are a probability rounded to the hundreths place. Looking to save time, you put down random probabilities as the answer to each question.\n",
    "\n",
    "- What is the probability that at least one of your first 60 answers is correct?"
   ]
  },
  {
   "cell_type": "code",
   "execution_count": 7,
   "metadata": {},
   "outputs": [
    {
     "data": {
      "text/plain": [
       "0.4528433576092388"
      ]
     },
     "execution_count": 7,
     "metadata": {},
     "output_type": "execute_result"
    }
   ],
   "source": [
    "n_trials= 60\n",
    "p= 0.01\n",
    "\n",
    "stats.binom(n_trials, p).sf(0)"
   ]
  },
  {
   "cell_type": "markdown",
   "metadata": {},
   "source": [
    "5. The codeup staff tends to get upset when the student break area is not cleaned up. Suppose that there's a 3% chance that any one student cleans the break area when they visit it, and, on any given day, about 90% of the 3 active cohorts of 22 students visit the break area. How likely is it that the break area gets cleaned up each day? How likely is it that it goes two days without getting cleaned up? All week?"
   ]
  },
  {
   "cell_type": "code",
   "execution_count": 4,
   "metadata": {},
   "outputs": [
    {
     "data": {
      "text/plain": [
       "0.8342199288437355"
      ]
     },
     "execution_count": 4,
     "metadata": {},
     "output_type": "execute_result"
    }
   ],
   "source": [
    "# How likely is it that the break area gets cleaned up each day?\n",
    "\n",
    "n_rate = round(0.9 * 3 * 22)\n",
    "p = 0.03\n",
    "\n",
    "stats.binom(n_rate, p).sf(0)"
   ]
  },
  {
   "cell_type": "code",
   "execution_count": 5,
   "metadata": {},
   "outputs": [
    {
     "data": {
      "text/plain": [
       "Text(0.5, 0, 'Number of time area is cleaned per day')"
      ]
     },
     "execution_count": 5,
     "metadata": {},
     "output_type": "execute_result"
    },
    {
     "data": {
      "image/png": "[encoded data removed]",
      "text/plain": [
       "<Figure size 432x288 with 1 Axes>"
      ]
     },
     "metadata": {
      "needs_background": "light"
     },
     "output_type": "display_data"
    }
   ],
   "source": [
    "x = np.arange(0, 10)\n",
    "y = stats.binom(n_rate,p).pmf(x)\n",
    "\n",
    "plt.bar(x, y)\n",
    "plt.xlabel('Number of time area is cleaned per day')"
   ]
  },
  {
   "cell_type": "code",
   "execution_count": 6,
   "metadata": {},
   "outputs": [
    {
     "data": {
      "text/plain": [
       "0.02748303199257622"
      ]
     },
     "execution_count": 6,
     "metadata": {},
     "output_type": "execute_result"
    }
   ],
   "source": [
    "#  How likely is it that it goes two days without getting cleaned up?\n",
    "stats.binom(n_rate * 2, p).pmf(0)"
   ]
  },
  {
   "cell_type": "code",
   "execution_count": 7,
   "metadata": {},
   "outputs": [
    {
     "data": {
      "text/plain": [
       "0.00012521651388091353"
      ]
     },
     "execution_count": 7,
     "metadata": {},
     "output_type": "execute_result"
    }
   ],
   "source": [
    "# probability of not getting cleaned for a week (5 days)\n",
    "stats.binom(n_rate * 5, p).pmf(0)"
   ]
  },
  {
   "cell_type": "code",
   "execution_count": null,
   "metadata": {},
   "outputs": [],
   "source": [
    "#Another solution: all steps are below\n",
    "\n",
    "#visitors per day = (3*22) * .90= 59.4"
   ]
  },
  {
   "cell_type": "code",
   "execution_count": 35,
   "metadata": {},
   "outputs": [],
   "source": [
    "# How likely is it that the break area gets cleaned up each day? \n",
    "n_trials= 59.4\n",
    "p= 0.03\n",
    "\n",
    "break_data= stats.binom(n_trials, p)"
   ]
  },
  {
   "cell_type": "code",
   "execution_count": 36,
   "metadata": {},
   "outputs": [
    {
     "data": {
      "text/plain": [
       "0.8342199288437355"
      ]
     },
     "execution_count": 36,
     "metadata": {},
     "output_type": "execute_result"
    }
   ],
   "source": [
    "daily_clean= break_data.sf(0)\n",
    "\n",
    "daily_clean  #answer"
   ]
  },
  {
   "cell_type": "code",
   "execution_count": 39,
   "metadata": {},
   "outputs": [
    {
     "data": {
      "text/plain": [
       "0.16578007115626447"
      ]
     },
     "execution_count": 39,
     "metadata": {},
     "output_type": "execute_result"
    }
   ],
   "source": [
    "#How likely is it that it goes two days without getting cleaned up?\n",
    "no_clean= 1- daily_clean\n",
    "\n",
    "no_clean"
   ]
  },
  {
   "cell_type": "code",
   "execution_count": 38,
   "metadata": {},
   "outputs": [
    {
     "data": {
      "text/plain": [
       "0.027483031992576113"
      ]
     },
     "execution_count": 38,
     "metadata": {},
     "output_type": "execute_result"
    }
   ],
   "source": [
    "two_days_dirty = no_clean * no_clean\n",
    "two_days_dirty"
   ]
  },
  {
   "cell_type": "code",
   "execution_count": 40,
   "metadata": {},
   "outputs": [
    {
     "data": {
      "text/plain": [
       "0.0001252165138809122"
      ]
     },
     "execution_count": 40,
     "metadata": {},
     "output_type": "execute_result"
    }
   ],
   "source": [
    "#All week?\n",
    "five_days_dirty = no_clean * no_clean * no_clean * no_clean * no_clean\n",
    "five_days_dirty"
   ]
  },
  {
   "cell_type": "markdown",
   "metadata": {},
   "source": [
    "6. You want to get lunch at La Panaderia, but notice that the line is usually very long at lunchtime. After several weeks of careful observation, you notice that the average number of people in line when your lunch break starts is normally distributed with a mean of 15 and standard deviation of 3. If it takes 2 minutes for each person to order, and 10 minutes from ordering to getting your food, what is the likelihood that you have at least 15 minutes left to eat your food before you have to go back to class? Assume you have one hour for lunch, and ignore travel time to and from La Panaderia.\n"
   ]
  },
  {
   "cell_type": "code",
   "execution_count": 59,
   "metadata": {},
   "outputs": [],
   "source": [
    "#Think about everything as time \n",
    "\n",
    "mean= 15*2 \n",
    "std_dev= 3*2\n",
    "\n",
    "line_time= stats.norm(mean, std_dev)"
   ]
  },
  {
   "cell_type": "code",
   "execution_count": 60,
   "metadata": {},
   "outputs": [
    {
     "data": {
      "text/plain": [
       "0.6914624612740131"
      ]
     },
     "execution_count": 60,
     "metadata": {},
     "output_type": "execute_result"
    }
   ],
   "source": [
    "time= line_time.cdf(33) # This is the answer: About 70% probability\n",
    "\n",
    "time"
   ]
  },
  {
   "cell_type": "markdown",
   "metadata": {},
   "source": [
    "7. Connect to the employees database and find the average salary of current employees, along with the standard deviation. For the following questions, calculate the answer based on modeling the employees salaries with a normal distribution defined by the calculated mean and standard deviation then compare this answer to the actual values present in the salaries dataset.\n",
    "\n",
    "What percent of employees earn less than 60,000?\n",
    "What percent of employees earn more than 95,000?\n",
    "What percent of employees earn between 65,000 and 80,000?\n",
    "What do the top 5% of employees make?"
   ]
  },
  {
   "cell_type": "code",
   "execution_count": 11,
   "metadata": {},
   "outputs": [],
   "source": [
    "salary_df= pd.read_sql(\"select * from salaries WHERE to_date= '9999-01-01'\", url)"
   ]
  },
  {
   "cell_type": "code",
   "execution_count": 12,
   "metadata": {},
   "outputs": [
    {
     "data": {
      "text/html": [
       "<div>\n",
       "<style scoped>\n",
       "    .dataframe tbody tr th:only-of-type {\n",
       "        vertical-align: middle;\n",
       "    }\n",
       "\n",
       "    .dataframe tbody tr th {\n",
       "        vertical-align: top;\n",
       "    }\n",
       "\n",
       "    .dataframe thead th {\n",
       "        text-align: right;\n",
       "    }\n",
       "</style>\n",
       "<table border=\"1\" class=\"dataframe\">\n",
       "  <thead>\n",
       "    <tr style=\"text-align: right;\">\n",
       "      <th></th>\n",
       "      <th>emp_no</th>\n",
       "      <th>salary</th>\n",
       "    </tr>\n",
       "  </thead>\n",
       "  <tbody>\n",
       "    <tr>\n",
       "      <th>count</th>\n",
       "      <td>240124.000000</td>\n",
       "      <td>240124.000000</td>\n",
       "    </tr>\n",
       "    <tr>\n",
       "      <th>mean</th>\n",
       "      <td>253080.615365</td>\n",
       "      <td>72012.235857</td>\n",
       "    </tr>\n",
       "    <tr>\n",
       "      <th>std</th>\n",
       "      <td>161853.087323</td>\n",
       "      <td>17309.995380</td>\n",
       "    </tr>\n",
       "    <tr>\n",
       "      <th>min</th>\n",
       "      <td>10001.000000</td>\n",
       "      <td>38623.000000</td>\n",
       "    </tr>\n",
       "    <tr>\n",
       "      <th>25%</th>\n",
       "      <td>84878.750000</td>\n",
       "      <td>59048.750000</td>\n",
       "    </tr>\n",
       "    <tr>\n",
       "      <th>50%</th>\n",
       "      <td>249792.500000</td>\n",
       "      <td>69805.000000</td>\n",
       "    </tr>\n",
       "    <tr>\n",
       "      <th>75%</th>\n",
       "      <td>424895.250000</td>\n",
       "      <td>82546.000000</td>\n",
       "    </tr>\n",
       "    <tr>\n",
       "      <th>max</th>\n",
       "      <td>499999.000000</td>\n",
       "      <td>158220.000000</td>\n",
       "    </tr>\n",
       "  </tbody>\n",
       "</table>\n",
       "</div>"
      ],
      "text/plain": [
       "              emp_no         salary\n",
       "count  240124.000000  240124.000000\n",
       "mean   253080.615365   72012.235857\n",
       "std    161853.087323   17309.995380\n",
       "min     10001.000000   38623.000000\n",
       "25%     84878.750000   59048.750000\n",
       "50%    249792.500000   69805.000000\n",
       "75%    424895.250000   82546.000000\n",
       "max    499999.000000  158220.000000"
      ]
     },
     "execution_count": 12,
     "metadata": {},
     "output_type": "execute_result"
    }
   ],
   "source": [
    "#Looking at statistics\n",
    "salary_df.describe()"
   ]
  },
  {
   "cell_type": "code",
   "execution_count": 13,
   "metadata": {},
   "outputs": [],
   "source": [
    "#Parameters\n",
    "mean_salary= salary_df.salary.mean()\n",
    "\n",
    "std_salary= salary_df.salary.std()"
   ]
  },
  {
   "cell_type": "code",
   "execution_count": 14,
   "metadata": {},
   "outputs": [
    {
     "data": {
      "text/plain": [
       "0.24385742480214423"
      ]
     },
     "execution_count": 14,
     "metadata": {},
     "output_type": "execute_result"
    }
   ],
   "source": [
    "# What percent of employees earn less than 60,000?\n",
    "\n",
    "stats.norm(mean_salary, std_salary).cdf(60000)"
   ]
  },
  {
   "cell_type": "code",
   "execution_count": 24,
   "metadata": {},
   "outputs": [
    {
     "data": {
      "text/plain": [
       "0.09208819199804053"
      ]
     },
     "execution_count": 24,
     "metadata": {},
     "output_type": "execute_result"
    }
   ],
   "source": [
    "# What percent of employees earn more than 95,000?\n",
    "stats.norm(mean_salary, std_salary).sf(95000)"
   ]
  },
  {
   "cell_type": "code",
   "execution_count": 29,
   "metadata": {},
   "outputs": [
    {
     "data": {
      "text/plain": [
       "0.3350605685446666"
      ]
     },
     "execution_count": 29,
     "metadata": {},
     "output_type": "execute_result"
    }
   ],
   "source": [
    "# What percent of employees earn between 65,000 and 80,000?\n",
    "1- (stats.norm(mean_salary, std_salary).sf(80000) + stats.norm(mean_salary, std_salary).cdf(65000))"
   ]
  },
  {
   "cell_type": "code",
   "execution_count": 16,
   "metadata": {},
   "outputs": [
    {
     "data": {
      "text/plain": [
       "array([0.33506057])"
      ]
     },
     "execution_count": 16,
     "metadata": {},
     "output_type": "execute_result"
    }
   ],
   "source": [
    "#Another solution to What percent of employees earn between 65,000 and 80,000?\n",
    "np.diff(stats.norm(mean_salary, std_salary).cdf([65000,80000]))"
   ]
  },
  {
   "cell_type": "code",
   "execution_count": 25,
   "metadata": {},
   "outputs": [
    {
     "data": {
      "text/plain": [
       "100484.64454102777"
      ]
     },
     "execution_count": 25,
     "metadata": {},
     "output_type": "execute_result"
    }
   ],
   "source": [
    "# What do the top 5% of employees make?\n",
    "\n",
    "stats.norm(mean_salary, std_salary).isf(0.05)"
   ]
  }
 ],
 "metadata": {
  "kernelspec": {
   "display_name": "Python 3",
   "language": "python",
   "name": "python3"
  },
  "language_info": {
   "codemirror_mode": {
    "name": "ipython",
    "version": 3
   },
   "file_extension": ".py",
   "mimetype": "text/x-python",
   "name": "python",
   "nbconvert_exporter": "python",
   "pygments_lexer": "ipython3",
   "version": "3.8.5"
  }
 },
 "nbformat": 4,
 "nbformat_minor": 4
}
