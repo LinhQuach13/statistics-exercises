{
 "cells": [
  {
   "cell_type": "markdown",
   "metadata": {},
   "source": [
    "# Simulation\n",
    "\n",
    "In this lesson, we will work through several examples of using random numbers to simulate real-world scenarios."
   ]
  },
  {
   "cell_type": "code",
   "execution_count": 3,
   "metadata": {},
   "outputs": [],
   "source": [
    "%matplotlib inline\n",
    "import numpy as np\n",
    "import pandas as pd\n",
    "\n",
    "import viz # curriculum example visualizations\n",
    "\n",
    "np.random.seed(1349)"
   ]
  },
  {
   "cell_type": "markdown",
   "metadata": {},
   "source": [
    "### How will we utilize Python to obtain probabilities?"
   ]
  },
  {
   "cell_type": "markdown",
   "metadata": {},
   "source": [
    "We will utilize Monte Carlo simulations.\n",
    "\n",
    "A Monte Carlo simulation is a means to recreate potential events and empirically take the results of simiulated trials to obtain a reasonably precise estimate of a desired probability.\n",
    "\n",
    "What does this mean for us here?"
   ]
  },
  {
   "cell_type": "code",
   "execution_count": null,
   "metadata": {},
   "outputs": [],
   "source": [
    "# Let's take a hypothetical base probability. \n",
    "# What is the probability of rolling a one (1) on a single, standard, fair six-sided die?\n"
   ]
  },
  {
   "cell_type": "code",
   "execution_count": 18,
   "metadata": {},
   "outputs": [],
   "source": [
    "# Potential outcomes of a die roll:\n",
    "possible_outcomes= [1,2,3,4,5,6]"
   ]
  },
  {
   "cell_type": "code",
   "execution_count": 17,
   "metadata": {},
   "outputs": [],
   "source": [
    "# options that equal 1: just 1, literally one\n",
    "\n",
    "ideal_roll= 1"
   ]
  },
  {
   "cell_type": "code",
   "execution_count": null,
   "metadata": {},
   "outputs": [],
   "source": [
    "# theoretical probability: 1/6"
   ]
  },
  {
   "cell_type": "code",
   "execution_count": 16,
   "metadata": {},
   "outputs": [
    {
     "data": {
      "text/plain": [
       "0.16666666666666666"
      ]
     },
     "execution_count": 16,
     "metadata": {},
     "output_type": "execute_result"
    }
   ],
   "source": [
    "1/6"
   ]
  },
  {
   "cell_type": "code",
   "execution_count": null,
   "metadata": {},
   "outputs": [],
   "source": [
    "# Now how would we do this with a simulation?\n"
   ]
  },
  {
   "cell_type": "code",
   "execution_count": null,
   "metadata": {},
   "outputs": [],
   "source": [
    "# We will do it utilizing a large number of trials, that we calculate."
   ]
  },
  {
   "cell_type": "code",
   "execution_count": null,
   "metadata": {},
   "outputs": [],
   "source": [
    "# Allow us to examine the same problem: Probability of rolling a 1 on a fair six-sided die."
   ]
  },
  {
   "cell_type": "code",
   "execution_count": 20,
   "metadata": {},
   "outputs": [],
   "source": [
    "# First, we will set a value for the number of trials that we want to conduct.\n",
    "# We have the power of computation at our finger tips, so let's shoot for something like one million.\n",
    "num_trials = 10 ** 5\n",
    "\n",
    "\n"
   ]
  },
  {
   "cell_type": "code",
   "execution_count": 21,
   "metadata": {},
   "outputs": [],
   "source": [
    "# We have one die roll for each trial, which is our event, that we call a single simulation\n",
    "n_dice = 1"
   ]
  },
  {
   "cell_type": "code",
   "execution_count": null,
   "metadata": {},
   "outputs": [],
   "source": [
    "# We will do a single simulation one million times, with each simulation being a die roll."
   ]
  },
  {
   "cell_type": "code",
   "execution_count": 22,
   "metadata": {},
   "outputs": [],
   "source": [
    "rolls = np.random.choice(possible_outcomes, num_trials*n_dice).reshape(num_trials, n_dice)"
   ]
  },
  {
   "cell_type": "code",
   "execution_count": 23,
   "metadata": {},
   "outputs": [
    {
     "data": {
      "text/plain": [
       "numpy.ndarray"
      ]
     },
     "execution_count": 23,
     "metadata": {},
     "output_type": "execute_result"
    }
   ],
   "source": [
    "type(rolls)"
   ]
  },
  {
   "cell_type": "code",
   "execution_count": 24,
   "metadata": {},
   "outputs": [
    {
     "data": {
      "text/plain": [
       "array([[2],\n",
       "       [3],\n",
       "       [2],\n",
       "       ...,\n",
       "       [4],\n",
       "       [1],\n",
       "       [1]])"
      ]
     },
     "execution_count": 24,
     "metadata": {},
     "output_type": "execute_result"
    }
   ],
   "source": [
    "rolls"
   ]
  },
  {
   "cell_type": "code",
   "execution_count": 25,
   "metadata": {},
   "outputs": [
    {
     "data": {
      "text/plain": [
       "(100000, 1)"
      ]
     },
     "execution_count": 25,
     "metadata": {},
     "output_type": "execute_result"
    }
   ],
   "source": [
    "rolls.shape"
   ]
  },
  {
   "cell_type": "code",
   "execution_count": 26,
   "metadata": {},
   "outputs": [
    {
     "data": {
      "text/plain": [
       "0.16699"
      ]
     },
     "execution_count": 26,
     "metadata": {},
     "output_type": "execute_result"
    }
   ],
   "source": [
    "(rolls== 1).mean()"
   ]
  },
  {
   "cell_type": "code",
   "execution_count": null,
   "metadata": {},
   "outputs": [],
   "source": []
  },
  {
   "cell_type": "code",
   "execution_count": null,
   "metadata": {},
   "outputs": [],
   "source": []
  },
  {
   "cell_type": "markdown",
   "metadata": {},
   "source": [
    "## Generating Random Numbers with Numpy\n",
    "\n",
    "The `numpy.random` module provides a number of functions for generating random numbers.\n",
    "\n",
    "- `np.random.choice`: selects random options from a list\n",
    "- `np.random.uniform`: generates numbers between a given lower and upper bound\n",
    "- `np.random.random`: generates numbers between 0 and 1\n",
    "- `np.random.randn`: generates numbers from the standard normal distribution\n",
    "- `np.random.normal`: generates numbers from a normal distribution with a specified mean and standard deviation"
   ]
  },
  {
   "cell_type": "markdown",
   "metadata": {},
   "source": [
    "## Example Problems\n",
    "\n",
    "### Carnival Dice Rolls\n",
    "\n",
    "> You are at a carnival and come across a person in a booth offering you a game\n",
    "> of \"chance\" (as people in booths at carnivals tend to do).\n",
    "\n",
    "> You pay 5 dollars and roll 3 dice. If the sum of the dice rolls is greater\n",
    "> than 12, you get 15 dollars. If it's less than or equal to 12, you get\n",
    "> nothing.\n",
    "\n",
    "> Assuming the dice are fair, should you play this game? How would this change\n",
    "> if the winning condition was a sum greater than *or equal to* 12?"
   ]
  },
  {
   "cell_type": "markdown",
   "metadata": {},
   "source": [
    "To simulate this problem, we'll write the python code to simulate the scenario described above, then repeat it a large amount of times.\n",
    "\n",
    "One way we can keep track of all the simulations is to use a 2-dimensional matrix. We can create a matrix where each row represents one \"trial\". Each row will have 3 columns, representing the 3 dice rolls."
   ]
  },
  {
   "cell_type": "code",
   "execution_count": 80,
   "metadata": {},
   "outputs": [],
   "source": [
    "n_trials = nrows= 10_000\n",
    "n_dice = ncols= 3\n",
    "\n",
    "rolls = np.random.choice([1,2,3,4,5,6], n_trials * n_dice)"
   ]
  },
  {
   "cell_type": "code",
   "execution_count": 81,
   "metadata": {},
   "outputs": [
    {
     "data": {
      "text/plain": [
       "array([[6, 6, 4],\n",
       "       [2, 4, 4],\n",
       "       [2, 2, 1],\n",
       "       ...,\n",
       "       [6, 6, 1],\n",
       "       [3, 6, 2],\n",
       "       [1, 1, 6]])"
      ]
     },
     "execution_count": 81,
     "metadata": {},
     "output_type": "execute_result"
    }
   ],
   "source": [
    "# add reshape to rolls variable to reshape column and rows\n",
    "rolls = np.random.choice([1,2,3,4,5,6], n_trials * n_dice).reshape(nrows, ncols)\n",
    "\n",
    "\n",
    "rolls"
   ]
  },
  {
   "cell_type": "markdown",
   "metadata": {},
   "source": [
    "Here we used the `choice` function to randomly select an element out of the list of the number 1-6, effectively simulating a dice roll. The second argument supplied to `choice` is the total number of dice to roll. Once we have generated all the dice rolls, we use the `.reshape` method to create our matrix with 3 columns and 10,000 rows.\n",
    "\n",
    "Now that we have all of the simulated dice rolls, we want to get the sum of the dice rolls for each trial. To do this, we can use the `.sum` function and specify that we want the sum of every row (as opposed to the sum of all the numbers, or the sum by column) with the `axis` key word argument."
   ]
  },
  {
   "cell_type": "code",
   "execution_count": 52,
   "metadata": {},
   "outputs": [
    {
     "data": {
      "text/plain": [
       "array([14, 10,  6, ..., 13,  8,  9])"
      ]
     },
     "execution_count": 52,
     "metadata": {},
     "output_type": "execute_result"
    }
   ],
   "source": [
    "sums_by_trial = rolls.sum(axis=1)\n",
    "sums_by_trial"
   ]
  },
  {
   "cell_type": "markdown",
   "metadata": {},
   "source": [
    "Let's pause here for a minute and visualize the data we have:"
   ]
  },
  {
   "cell_type": "code",
   "execution_count": 53,
   "metadata": {},
   "outputs": [
    {
     "data": {
      "image/png": "[encoded data removed]",
      "text/plain": [
       "<Figure size 648x432 with 1 Axes>"
      ]
     },
     "metadata": {
      "needs_background": "light"
     },
     "output_type": "display_data"
    }
   ],
   "source": [
    "viz.simulation_example1(sums_by_trial)"
   ]
  },
  {
   "cell_type": "markdown",
   "metadata": {},
   "source": [
    "The area shaded in lightblue represents our chance of winning, that is, the number of times that the sum of 3 dice rolls is greater than 12.\n",
    "\n",
    "We can now convert each value in our array to a boolean value indicating whether or not we won:"
   ]
  },
  {
   "cell_type": "code",
   "execution_count": 54,
   "metadata": {},
   "outputs": [],
   "source": [
    "wins= sums_by_trial > 12"
   ]
  },
  {
   "cell_type": "markdown",
   "metadata": {},
   "source": [
    "To calculate an overall win rate, we can treat each win as a `1` and each loss as `0`, then take the average of the array:"
   ]
  },
  {
   "cell_type": "code",
   "execution_count": 63,
   "metadata": {},
   "outputs": [],
   "source": [
    "win_rate = wins.mean()"
   ]
  },
  {
   "cell_type": "code",
   "execution_count": 55,
   "metadata": {},
   "outputs": [],
   "source": [
    "#another way to do code above, commented out so code won't run\n",
    "\n",
    "# win_rate = wins.astype('int').mean()"
   ]
  },
  {
   "cell_type": "code",
   "execution_count": 64,
   "metadata": {},
   "outputs": [
    {
     "data": {
      "text/plain": [
       "0.2544"
      ]
     },
     "execution_count": 64,
     "metadata": {},
     "output_type": "execute_result"
    }
   ],
   "source": [
    "win_rate"
   ]
  },
  {
   "cell_type": "markdown",
   "metadata": {},
   "source": [
    "Now that we know our win rate, we can calculate the expected profit:"
   ]
  },
  {
   "cell_type": "code",
   "execution_count": 65,
   "metadata": {},
   "outputs": [
    {
     "data": {
      "text/plain": [
       "-1.1839999999999997"
      ]
     },
     "execution_count": 65,
     "metadata": {},
     "output_type": "execute_result"
    }
   ],
   "source": [
    "expected_winnings = win_rate * 15\n",
    "cost = 5\n",
    "expected_profit = expected_winnings - cost\n",
    "expected_profit"
   ]
  },
  {
   "cell_type": "code",
   "execution_count": 66,
   "metadata": {},
   "outputs": [
    {
     "data": {
      "text/plain": [
       "3.8160000000000003"
      ]
     },
     "execution_count": 66,
     "metadata": {},
     "output_type": "execute_result"
    }
   ],
   "source": [
    "expected_winnings"
   ]
  },
  {
   "cell_type": "markdown",
   "metadata": {},
   "source": [
    "So we would expect, based on our simulations, on average, to lose a little over a dollar everytime we play this game.\n",
    "\n",
    "To answer the last part of the question, we can recalculate our win rate based on the sums being greater than or equal to 12:"
   ]
  },
  {
   "cell_type": "code",
   "execution_count": 67,
   "metadata": {},
   "outputs": [
    {
     "data": {
      "text/plain": [
       "0.5049999999999999"
      ]
     },
     "execution_count": 67,
     "metadata": {},
     "output_type": "execute_result"
    }
   ],
   "source": [
    "wins = sums_by_trial >= 12\n",
    "win_rate = wins.mean()\n",
    "expected_winnings = win_rate * 15\n",
    "cost = 5\n",
    "expected_profit = expected_winnings - cost\n",
    "expected_profit"
   ]
  },
  {
   "cell_type": "markdown",
   "metadata": {},
   "source": [
    "If our win condition changes to the sum being greater than or equal to 12, then, based on our simulations, on average, we expect to win about 58 cents."
   ]
  },
  {
   "cell_type": "markdown",
   "metadata": {},
   "source": [
    "## Mini Exercise:\n",
    "\n",
    "What is the probability of rolling \"snake eyes\" on a roll of two (fair) dice?"
   ]
  },
  {
   "cell_type": "code",
   "execution_count": 103,
   "metadata": {},
   "outputs": [
    {
     "data": {
      "text/plain": [
       "0.027777777777777776"
      ]
     },
     "execution_count": 103,
     "metadata": {},
     "output_type": "execute_result"
    }
   ],
   "source": [
    "(1/6) * (1/6)"
   ]
  },
  {
   "cell_type": "code",
   "execution_count": 110,
   "metadata": {},
   "outputs": [],
   "source": [
    "n_trials2 = nrows2= 10 ** 6\n",
    "n_dice2 = ncols2= 2\n",
    "\n",
    "rolls2 = np.random.choice([1,2,3,4,5,6], n_trials2 * n_dice2)"
   ]
  },
  {
   "cell_type": "code",
   "execution_count": 111,
   "metadata": {},
   "outputs": [
    {
     "data": {
      "text/plain": [
       "array([[5, 1],\n",
       "       [3, 3],\n",
       "       [4, 3],\n",
       "       ...,\n",
       "       [6, 4],\n",
       "       [5, 4],\n",
       "       [2, 5]])"
      ]
     },
     "execution_count": 111,
     "metadata": {},
     "output_type": "execute_result"
    }
   ],
   "source": [
    "rolls2 = np.random.choice([1,2,3,4,5,6], n_trials2 * n_dice2).reshape(nrows2, ncols2)\n",
    "\n",
    "rolls2"
   ]
  },
  {
   "cell_type": "code",
   "execution_count": 112,
   "metadata": {},
   "outputs": [
    {
     "data": {
      "text/plain": [
       "array([False, False, False, ..., False, False, False])"
      ]
     },
     "execution_count": 112,
     "metadata": {},
     "output_type": "execute_result"
    }
   ],
   "source": [
    "#change into a boolean\n",
    "\n",
    "(rolls2.sum(axis=1) == 2)"
   ]
  },
  {
   "cell_type": "code",
   "execution_count": 113,
   "metadata": {},
   "outputs": [
    {
     "data": {
      "text/plain": [
       "0.027619"
      ]
     },
     "execution_count": 113,
     "metadata": {},
     "output_type": "execute_result"
    }
   ],
   "source": [
    "#mean of boolean values\n",
    "(rolls2.sum(axis=1) == 2).mean()"
   ]
  },
  {
   "cell_type": "markdown",
   "metadata": {},
   "source": [
    "### No Rest or Relaxation\n",
    "\n",
    "> There's a 30% chance my son takes a nap on any given weekend day. What is the chance that he takes a nap at least one day this weekend? What is the probability that he doesn't nap at all?\n",
    "\n",
    "Let's first do a little bit of setup:"
   ]
  },
  {
   "cell_type": "code",
   "execution_count": 114,
   "metadata": {},
   "outputs": [],
   "source": [
    "p_nap = 0.3\n",
    "ndays = n_cols = 2\n",
    "n_simulated_weekends = n_rows= 10 ** 6"
   ]
  },
  {
   "cell_type": "markdown",
   "metadata": {},
   "source": [
    "To simulate the results from many weekends, we'll create a 2 x 10,000 matrix, with 2 being the number of days in a weekend and 10,000 being the number of simulations we want to run.\n",
    "\n",
    "To determine whether or not a nap is taken on a given day, we'll generate a random number between 0 and 1, and say that it is a nap if it is less than our probability of taking a nap."
   ]
  },
  {
   "cell_type": "code",
   "execution_count": 117,
   "metadata": {},
   "outputs": [],
   "source": [
    "trials = np.random.random((nrows2, ncols2))"
   ]
  },
  {
   "cell_type": "code",
   "execution_count": 118,
   "metadata": {},
   "outputs": [
    {
     "data": {
      "text/plain": [
       "array([[0.33535947, 0.69750378],\n",
       "       [0.94430823, 0.54054585],\n",
       "       [0.01996268, 0.91734504],\n",
       "       [0.06592182, 0.15249129],\n",
       "       [0.07436505, 0.4390064 ],\n",
       "       [0.07895158, 0.90156788],\n",
       "       [0.98298273, 0.01978592],\n",
       "       [0.16336789, 0.06647719],\n",
       "       [0.7540939 , 0.45021646],\n",
       "       [0.18539777, 0.30903197]])"
      ]
     },
     "execution_count": 118,
     "metadata": {},
     "output_type": "execute_result"
    }
   ],
   "source": [
    "trials[:10]"
   ]
  },
  {
   "cell_type": "code",
   "execution_count": 119,
   "metadata": {},
   "outputs": [],
   "source": [
    "naps= trials < p_nap"
   ]
  },
  {
   "cell_type": "code",
   "execution_count": 120,
   "metadata": {},
   "outputs": [
    {
     "data": {
      "text/plain": [
       "array([[False, False],\n",
       "       [False, False],\n",
       "       [ True, False],\n",
       "       ...,\n",
       "       [False, False],\n",
       "       [ True,  True],\n",
       "       [ True, False]])"
      ]
     },
     "execution_count": 120,
     "metadata": {},
     "output_type": "execute_result"
    }
   ],
   "source": [
    "naps"
   ]
  },
  {
   "cell_type": "markdown",
   "metadata": {},
   "source": [
    "Now that we have each day as either true or false, we can take the sum of each row to find the total number of naps for the weekend. When we sum an array of boolean values, numpy will treat `True` as 1 and `False` as 0."
   ]
  },
  {
   "cell_type": "code",
   "execution_count": 121,
   "metadata": {},
   "outputs": [
    {
     "data": {
      "text/plain": [
       "array([0, 0, 1, ..., 0, 2, 1])"
      ]
     },
     "execution_count": 121,
     "metadata": {},
     "output_type": "execute_result"
    }
   ],
   "source": [
    "naps.sum(axis=1)"
   ]
  },
  {
   "cell_type": "markdown",
   "metadata": {},
   "source": [
    "Now we have the results of our simulation, an array where each number in the array represents how many naps were taken in a two day weekend."
   ]
  },
  {
   "cell_type": "code",
   "execution_count": 122,
   "metadata": {},
   "outputs": [
    {
     "data": {
      "image/png": "[encoded data removed]",
      "text/plain": [
       "<Figure size 648x432 with 1 Axes>"
      ]
     },
     "metadata": {
      "needs_background": "light"
     },
     "output_type": "display_data"
    }
   ],
   "source": [
    "viz.simulation_example2(naps)"
   ]
  },
  {
   "cell_type": "markdown",
   "metadata": {},
   "source": [
    "We can use this to answer our original questions, what is the probability that at least one nap is taken?"
   ]
  },
  {
   "cell_type": "code",
   "execution_count": 123,
   "metadata": {},
   "outputs": [
    {
     "data": {
      "text/plain": [
       "0.510173"
      ]
     },
     "execution_count": 123,
     "metadata": {},
     "output_type": "execute_result"
    }
   ],
   "source": [
    "(naps.sum(axis=1) >=1).mean()"
   ]
  },
  {
   "cell_type": "markdown",
   "metadata": {},
   "source": [
    "What is the probability no naps are taken?"
   ]
  },
  {
   "cell_type": "code",
   "execution_count": 124,
   "metadata": {},
   "outputs": [
    {
     "data": {
      "text/plain": [
       "0.489827"
      ]
     },
     "execution_count": 124,
     "metadata": {},
     "output_type": "execute_result"
    }
   ],
   "source": [
    "(naps.sum(axis=1)== 0).mean()"
   ]
  },
  {
   "cell_type": "code",
   "execution_count": 125,
   "metadata": {},
   "outputs": [
    {
     "data": {
      "text/plain": [
       "0.09013"
      ]
     },
     "execution_count": 125,
     "metadata": {},
     "output_type": "execute_result"
    }
   ],
   "source": [
    "#probability of 2 naps which is about 9%\n",
    "\n",
    "(naps.sum(axis=1)== 2).mean()"
   ]
  },
  {
   "cell_type": "markdown",
   "metadata": {},
   "source": [
    "## Mini Exercise:\n",
    "\n",
    "There are ten options in a blind-box style collectable, but you are only likely to get the one you want the most at a probability of one out of every twenty boxes because its a little rarer.\n",
    "\n",
    "What is the probability of getting your desired collectable if you buy three blindbox toys?"
   ]
  },
  {
   "cell_type": "code",
   "execution_count": 129,
   "metadata": {},
   "outputs": [],
   "source": [
    "#probability of winning when buying 3 blind boxes\n",
    "p_win= (1/20)"
   ]
  },
  {
   "cell_type": "code",
   "execution_count": 130,
   "metadata": {},
   "outputs": [
    {
     "data": {
      "text/plain": [
       "0.05"
      ]
     },
     "execution_count": 130,
     "metadata": {},
     "output_type": "execute_result"
    }
   ],
   "source": [
    "p_win"
   ]
  },
  {
   "cell_type": "code",
   "execution_count": 131,
   "metadata": {},
   "outputs": [],
   "source": [
    "n_trials = n_rows = 10 ** 6\n",
    "n_simulations = n_cols= 3"
   ]
  },
  {
   "cell_type": "code",
   "execution_count": 140,
   "metadata": {},
   "outputs": [
    {
     "data": {
      "text/plain": [
       "array([[0.39100527, 0.83579692, 0.93469963],\n",
       "       [0.75127171, 0.5164891 , 0.92961888],\n",
       "       [0.59484334, 0.74693443, 0.36286609],\n",
       "       ...,\n",
       "       [0.68011628, 0.78508015, 0.53489748],\n",
       "       [0.91239105, 0.29027542, 0.52850642],\n",
       "       [0.37678565, 0.72549273, 0.52572925]])"
      ]
     },
     "execution_count": 140,
     "metadata": {},
     "output_type": "execute_result"
    }
   ],
   "source": [
    "total_purchases = np.random.random((n_rows, n_cols))\n",
    "\n",
    "total_purchases"
   ]
  },
  {
   "cell_type": "code",
   "execution_count": 135,
   "metadata": {},
   "outputs": [
    {
     "data": {
      "text/plain": [
       "0.150295"
      ]
     },
     "execution_count": 135,
     "metadata": {},
     "output_type": "execute_result"
    }
   ],
   "source": [
    "((total_purchases< p_win).sum(axis=1)).mean()"
   ]
  },
  {
   "cell_type": "code",
   "execution_count": 136,
   "metadata": {},
   "outputs": [
    {
     "data": {
      "text/plain": [
       "0.00012500000000000003"
      ]
     },
     "execution_count": 136,
     "metadata": {},
     "output_type": "execute_result"
    }
   ],
   "source": [
    "# This is NOT the probability for the 3 blind boxes\n",
    "(1/20) * (1/20) * (1/20)"
   ]
  },
  {
   "cell_type": "markdown",
   "metadata": {},
   "source": [
    "### One With Dataframes\n",
    "\n",
    "Let's take a look at one more problem:\n",
    "\n",
    "> What is the probability of getting at least one 3 in 3 dice rolls?\n",
    "\n",
    "To simulate this, we'll use a similar strategy to how we modeled the dice rolls in the previous example, but this time, we'll store the results in a pandas dataframe so that we can apply a lambda function that will check to see if one of the rolls was a 3."
   ]
  },
  {
   "cell_type": "code",
   "execution_count": null,
   "metadata": {},
   "outputs": [],
   "source": [
    "n_simulations = nrows = 10 ** 6\n",
    "n_dice_rolled = ncols = 3\n",
    "\n",
    "rolls = np.random.choice([1,2,3,4,5,6], n_trials  * n_dice_rolled).reshape(n_rows, n_cols)"
   ]
  },
  {
   "cell_type": "code",
   "execution_count": 138,
   "metadata": {},
   "outputs": [
    {
     "data": {
      "text/plain": [
       "0       False\n",
       "1       False\n",
       "2       False\n",
       "3       False\n",
       "4       False\n",
       "        ...  \n",
       "9995    False\n",
       "9996    False\n",
       "9997    False\n",
       "9998     True\n",
       "9999    False\n",
       "Length: 10000, dtype: bool"
      ]
     },
     "execution_count": 138,
     "metadata": {},
     "output_type": "execute_result"
    }
   ],
   "source": [
    "# using pandas to make boolean values, used apply function to make boolean values\n",
    "pd.DataFrame(rolls).apply(lambda row: 3 in row.values, axis=1)"
   ]
  },
  {
   "cell_type": "code",
   "execution_count": 142,
   "metadata": {},
   "outputs": [
    {
     "data": {
      "text/plain": [
       "0.4304"
      ]
     },
     "execution_count": 142,
     "metadata": {},
     "output_type": "execute_result"
    }
   ],
   "source": [
    "# using pandas to make boolean values and getting the mean\n",
    "pd.DataFrame(rolls).apply(lambda row: 3 in row.values, axis=1).mean()"
   ]
  },
  {
   "cell_type": "markdown",
   "metadata": {},
   "source": [
    "Let's break down what's going on here:\n",
    "\n",
    "1. First we assign values for the number of rows and columns we are going to use\n",
    "1. Next we create the `rolls` variable that holds a 3 x 10,000 matrix where each element is a randomly chosen number from 1 to 6\n",
    "1. Lastly we create a dataframe from the rolls\n",
    "    1. `pd.DataFrame(rolls)` converts our 2d numpy matrix to a pandas DataFrame\n",
    "    1. `.apply(...` applies a function to each **row** in our dataframe, because we specified `axis=1`, the function will be called with each row as it's argument. The body of the function checks to see if the value `3` is in the values of the row, and will return either `True` or `False`\n",
    "    1. `.mean()` takes our resulting series of boolean values, and treats `True` as 1 and `False` as 0, to give us the average rate of `True`s, in this case, the simulated probability of getting a 3 in 3 dice rolls."
   ]
  },
  {
   "cell_type": "markdown",
   "metadata": {},
   "source": [
    "## Mini Exercise:\n",
    "\n",
    "Recreate the blindbox problem utilizing the above strategy!\n"
   ]
  },
  {
   "cell_type": "code",
   "execution_count": 149,
   "metadata": {},
   "outputs": [],
   "source": [
    "n_rows=10_000\n",
    "n_cols= 3\n",
    "outcomes=[1,2,3,4,5,6,7,8,9,10]\n",
    "prob_win= 0.05\n",
    "prob_others=(1- 0.05)/9\n",
    "\n"
   ]
  },
  {
   "cell_type": "code",
   "execution_count": 155,
   "metadata": {},
   "outputs": [],
   "source": [
    "#to get this into a numpy array\n",
    "data= np.random.choice(outcomes, n_rows*n_cols, p=[prob_win, prob_others, prob_others, prob_others, prob_others, prob_others, prob_others, prob_others, prob_others, prob_others])# want p to match dimension of the outcomes, otherwise it will break"
   ]
  },
  {
   "cell_type": "code",
   "execution_count": 159,
   "metadata": {},
   "outputs": [],
   "source": [
    "#change shape of numpy array\n",
    "data= np.random.choice(outcomes, n_rows*n_cols, p=[prob_win, prob_others, prob_others, prob_others, prob_others, prob_others, prob_others, prob_others, prob_others, prob_others]).reshape(n_rows, n_cols)"
   ]
  },
  {
   "cell_type": "code",
   "execution_count": 160,
   "metadata": {},
   "outputs": [
    {
     "data": {
      "text/plain": [
       "array([[5, 5, 8],\n",
       "       [7, 7, 6],\n",
       "       [7, 1, 2],\n",
       "       ...,\n",
       "       [2, 9, 3],\n",
       "       [9, 5, 1],\n",
       "       [9, 9, 3]])"
      ]
     },
     "execution_count": 160,
     "metadata": {},
     "output_type": "execute_result"
    }
   ],
   "source": [
    "data"
   ]
  },
  {
   "cell_type": "code",
   "execution_count": 161,
   "metadata": {},
   "outputs": [
    {
     "data": {
      "text/plain": [
       "array([[5, 5, 8],\n",
       "       [7, 7, 6],\n",
       "       [7, 1, 2],\n",
       "       [3, 3, 9],\n",
       "       [5, 9, 5]])"
      ]
     },
     "execution_count": 161,
     "metadata": {},
     "output_type": "execute_result"
    }
   ],
   "source": [
    "data[:5]"
   ]
  },
  {
   "cell_type": "code",
   "execution_count": 166,
   "metadata": {},
   "outputs": [
    {
     "data": {
      "text/plain": [
       "0.1472"
      ]
     },
     "execution_count": 166,
     "metadata": {},
     "output_type": "execute_result"
    }
   ],
   "source": [
    "# using pandas to make boolean values, getting the mean\n",
    "pd.DataFrame(data).apply(lambda row: 1 in row.values, axis=1).mean() # used apply function to make boolean values"
   ]
  },
  {
   "cell_type": "markdown",
   "metadata": {},
   "source": [
    "## Exercises\n",
    "\n",
    "Within your `codeup-data-science directory`, create a directory named `statistics-exercises`. This will be where you do your work for this module. Create a repository on GitHub with the same name, and link your local repository to GitHub.\n",
    "\n",
    "Do your work for this exercise in either a python file named `simulation.py` or a jupyter notebook named `simulation.ipynb`."
   ]
  },
  {
   "cell_type": "markdown",
   "metadata": {},
   "source": [
    "1. How likely is it that you roll doubles when rolling two dice?\n",
    "\n",
    "1. If you flip 8 coins, what is the probability of getting exactly 3 heads? What is the probability of getting more than 3 heads?\n",
    "\n",
    "1. There are approximitely 3 web development cohorts for every 1 data science cohort at Codeup. Assuming that Codeup randomly selects an alumni to put on a billboard, what are the odds that the two billboards I drive past both have data science students on them?\n",
    "\n",
    "1. Codeup students buy, on average, 3 poptart packages (+- 1.5) a day from the snack vending machine. If on monday the machine is restocked with 17 poptart packages, how likely is it that I will be able to buy some poptarts on Friday afternoon?\n",
    "\n",
    "1. Compare Heights\n",
    "\n",
    "    - Men have an average height of 178 cm and standard deviation of 8cm.\n",
    "    - Women have a mean of 170, sd = 6cm.\n",
    "    - If a man and woman are chosen at random, P(woman taller than man)?\n",
    "\n",
    "1. When installing anaconda on a student's computer, there's a 1 in 250 chance\n",
    "   that the download is corrupted and the installation fails. What are the odds\n",
    "   that after having 50 students download anaconda, no one has an installation\n",
    "   issue?  100 students?\n",
    "\n",
    "    What is the probability that we observe an installation issue within the first\n",
    "    150 students that download anaconda?\n",
    "\n",
    "    How likely is it that 450 students all download anaconda without an issue?\n",
    "\n",
    "1. There's a 70% chance on any given day that there will be at least one food\n",
    "   truck at Travis Park. However, you haven't seen a food truck there in 3 days.\n",
    "   How unlikely is this?\n",
    "\n",
    "    How likely is it that a food truck will show up sometime this week?\n",
    "\n",
    "1. If 23 people are in the same room, what are the odds that two of them share a birthday? What if it's 20 people? 40?"
   ]
  },
  {
   "cell_type": "markdown",
   "metadata": {},
   "source": [
    "# 1. How likely is it that you roll doubles when rolling two dice?"
   ]
  },
  {
   "cell_type": "code",
   "execution_count": 52,
   "metadata": {},
   "outputs": [
    {
     "data": {
      "text/plain": [
       "0.16666666666666666"
      ]
     },
     "execution_count": 52,
     "metadata": {},
     "output_type": "execute_result"
    }
   ],
   "source": [
    "#probability of rolling doubles when rolling two dice\n",
    "6/36"
   ]
  },
  {
   "cell_type": "code",
   "execution_count": 53,
   "metadata": {},
   "outputs": [
    {
     "data": {
      "text/plain": [
       "array([[3, 6],\n",
       "       [2, 4],\n",
       "       [5, 2],\n",
       "       ...,\n",
       "       [1, 2],\n",
       "       [1, 1],\n",
       "       [5, 5]])"
      ]
     },
     "execution_count": 53,
     "metadata": {},
     "output_type": "execute_result"
    }
   ],
   "source": [
    "possible_outcomes= [1,2,3,4,5,6]\n",
    "num_trials =n_rows= 10 ** 6\n",
    "n_dice= n_cols= 2\n",
    "\n",
    "\n",
    "rolls3= np.random.choice(possible_outcomes, num_trials * n_dice).reshape(num_trials, n_dice)\n",
    "\n",
    "rolls3    "
   ]
  },
  {
   "cell_type": "code",
   "execution_count": 54,
   "metadata": {},
   "outputs": [
    {
     "data": {
      "text/html": [
       "<div>\n",
       "<style scoped>\n",
       "    .dataframe tbody tr th:only-of-type {\n",
       "        vertical-align: middle;\n",
       "    }\n",
       "\n",
       "    .dataframe tbody tr th {\n",
       "        vertical-align: top;\n",
       "    }\n",
       "\n",
       "    .dataframe thead th {\n",
       "        text-align: right;\n",
       "    }\n",
       "</style>\n",
       "<table border=\"1\" class=\"dataframe\">\n",
       "  <thead>\n",
       "    <tr style=\"text-align: right;\">\n",
       "      <th></th>\n",
       "      <th>0</th>\n",
       "      <th>1</th>\n",
       "    </tr>\n",
       "  </thead>\n",
       "  <tbody>\n",
       "    <tr>\n",
       "      <th>0</th>\n",
       "      <td>3</td>\n",
       "      <td>6</td>\n",
       "    </tr>\n",
       "    <tr>\n",
       "      <th>1</th>\n",
       "      <td>2</td>\n",
       "      <td>4</td>\n",
       "    </tr>\n",
       "    <tr>\n",
       "      <th>2</th>\n",
       "      <td>5</td>\n",
       "      <td>2</td>\n",
       "    </tr>\n",
       "    <tr>\n",
       "      <th>3</th>\n",
       "      <td>5</td>\n",
       "      <td>5</td>\n",
       "    </tr>\n",
       "    <tr>\n",
       "      <th>4</th>\n",
       "      <td>6</td>\n",
       "      <td>2</td>\n",
       "    </tr>\n",
       "    <tr>\n",
       "      <th>...</th>\n",
       "      <td>...</td>\n",
       "      <td>...</td>\n",
       "    </tr>\n",
       "    <tr>\n",
       "      <th>999995</th>\n",
       "      <td>4</td>\n",
       "      <td>6</td>\n",
       "    </tr>\n",
       "    <tr>\n",
       "      <th>999996</th>\n",
       "      <td>3</td>\n",
       "      <td>5</td>\n",
       "    </tr>\n",
       "    <tr>\n",
       "      <th>999997</th>\n",
       "      <td>1</td>\n",
       "      <td>2</td>\n",
       "    </tr>\n",
       "    <tr>\n",
       "      <th>999998</th>\n",
       "      <td>1</td>\n",
       "      <td>1</td>\n",
       "    </tr>\n",
       "    <tr>\n",
       "      <th>999999</th>\n",
       "      <td>5</td>\n",
       "      <td>5</td>\n",
       "    </tr>\n",
       "  </tbody>\n",
       "</table>\n",
       "<p>1000000 rows × 2 columns</p>\n",
       "</div>"
      ],
      "text/plain": [
       "        0  1\n",
       "0       3  6\n",
       "1       2  4\n",
       "2       5  2\n",
       "3       5  5\n",
       "4       6  2\n",
       "...    .. ..\n",
       "999995  4  6\n",
       "999996  3  5\n",
       "999997  1  2\n",
       "999998  1  1\n",
       "999999  5  5\n",
       "\n",
       "[1000000 rows x 2 columns]"
      ]
     },
     "execution_count": 54,
     "metadata": {},
     "output_type": "execute_result"
    }
   ],
   "source": [
    "# Looking at dataframe\n",
    "pd.DataFrame(rolls3)"
   ]
  },
  {
   "cell_type": "code",
   "execution_count": 55,
   "metadata": {},
   "outputs": [
    {
     "data": {
      "text/plain": [
       "0.166646"
      ]
     },
     "execution_count": 55,
     "metadata": {},
     "output_type": "execute_result"
    }
   ],
   "source": [
    " pd.DataFrame(rolls3).apply(lambda x: x[0] == x[1] in x.values, axis =1).mean() #Answer"
   ]
  },
  {
   "cell_type": "code",
   "execution_count": null,
   "metadata": {},
   "outputs": [],
   "source": [
    "#Answer: answer at the top, commented out this cell so won't run\n",
    "\n",
    "# pd.DataFrame(rolls3).apply(lambda x: x[0] == x[1] in x.values, axis =1).mean()"
   ]
  },
  {
   "cell_type": "markdown",
   "metadata": {},
   "source": [
    "# 2. If you flip 8 coins, what is the probability of getting exactly 3 heads? What is the probability of getting more than 3 heads?"
   ]
  },
  {
   "cell_type": "code",
   "execution_count": 62,
   "metadata": {},
   "outputs": [
    {
     "data": {
      "text/plain": [
       "array([[1, 0, 0, ..., 0, 0, 1],\n",
       "       [0, 1, 1, ..., 1, 0, 1],\n",
       "       [0, 1, 0, ..., 1, 0, 1],\n",
       "       ...,\n",
       "       [1, 0, 1, ..., 1, 1, 1],\n",
       "       [1, 1, 0, ..., 1, 0, 1],\n",
       "       [0, 0, 1, ..., 0, 0, 0]])"
      ]
     },
     "execution_count": 62,
     "metadata": {},
     "output_type": "execute_result"
    }
   ],
   "source": [
    "coin_trials=10_000\n",
    "num_of_coins= 8\n",
    "head= 1\n",
    "tails= 0\n",
    "outcomes_two=[head, tails]\n",
    "\n",
    "\n",
    "\n",
    "coin_flip= np.random.choice(outcomes_two, coin_trials * num_of_coins).reshape(coin_trials, num_of_coins)\n",
    "\n",
    "coin_flip"
   ]
  },
  {
   "cell_type": "code",
   "execution_count": 63,
   "metadata": {},
   "outputs": [
    {
     "data": {
      "text/html": [
       "<div>\n",
       "<style scoped>\n",
       "    .dataframe tbody tr th:only-of-type {\n",
       "        vertical-align: middle;\n",
       "    }\n",
       "\n",
       "    .dataframe tbody tr th {\n",
       "        vertical-align: top;\n",
       "    }\n",
       "\n",
       "    .dataframe thead th {\n",
       "        text-align: right;\n",
       "    }\n",
       "</style>\n",
       "<table border=\"1\" class=\"dataframe\">\n",
       "  <thead>\n",
       "    <tr style=\"text-align: right;\">\n",
       "      <th></th>\n",
       "      <th>0</th>\n",
       "      <th>1</th>\n",
       "      <th>2</th>\n",
       "      <th>3</th>\n",
       "      <th>4</th>\n",
       "      <th>5</th>\n",
       "      <th>6</th>\n",
       "      <th>7</th>\n",
       "    </tr>\n",
       "  </thead>\n",
       "  <tbody>\n",
       "    <tr>\n",
       "      <th>0</th>\n",
       "      <td>1</td>\n",
       "      <td>0</td>\n",
       "      <td>0</td>\n",
       "      <td>1</td>\n",
       "      <td>1</td>\n",
       "      <td>0</td>\n",
       "      <td>0</td>\n",
       "      <td>1</td>\n",
       "    </tr>\n",
       "    <tr>\n",
       "      <th>1</th>\n",
       "      <td>0</td>\n",
       "      <td>1</td>\n",
       "      <td>1</td>\n",
       "      <td>0</td>\n",
       "      <td>0</td>\n",
       "      <td>1</td>\n",
       "      <td>0</td>\n",
       "      <td>1</td>\n",
       "    </tr>\n",
       "    <tr>\n",
       "      <th>2</th>\n",
       "      <td>0</td>\n",
       "      <td>1</td>\n",
       "      <td>0</td>\n",
       "      <td>0</td>\n",
       "      <td>0</td>\n",
       "      <td>1</td>\n",
       "      <td>0</td>\n",
       "      <td>1</td>\n",
       "    </tr>\n",
       "    <tr>\n",
       "      <th>3</th>\n",
       "      <td>1</td>\n",
       "      <td>0</td>\n",
       "      <td>0</td>\n",
       "      <td>0</td>\n",
       "      <td>1</td>\n",
       "      <td>1</td>\n",
       "      <td>0</td>\n",
       "      <td>1</td>\n",
       "    </tr>\n",
       "    <tr>\n",
       "      <th>4</th>\n",
       "      <td>1</td>\n",
       "      <td>1</td>\n",
       "      <td>0</td>\n",
       "      <td>0</td>\n",
       "      <td>0</td>\n",
       "      <td>1</td>\n",
       "      <td>1</td>\n",
       "      <td>0</td>\n",
       "    </tr>\n",
       "    <tr>\n",
       "      <th>...</th>\n",
       "      <td>...</td>\n",
       "      <td>...</td>\n",
       "      <td>...</td>\n",
       "      <td>...</td>\n",
       "      <td>...</td>\n",
       "      <td>...</td>\n",
       "      <td>...</td>\n",
       "      <td>...</td>\n",
       "    </tr>\n",
       "    <tr>\n",
       "      <th>9995</th>\n",
       "      <td>0</td>\n",
       "      <td>1</td>\n",
       "      <td>1</td>\n",
       "      <td>1</td>\n",
       "      <td>0</td>\n",
       "      <td>1</td>\n",
       "      <td>0</td>\n",
       "      <td>1</td>\n",
       "    </tr>\n",
       "    <tr>\n",
       "      <th>9996</th>\n",
       "      <td>0</td>\n",
       "      <td>0</td>\n",
       "      <td>1</td>\n",
       "      <td>0</td>\n",
       "      <td>0</td>\n",
       "      <td>0</td>\n",
       "      <td>0</td>\n",
       "      <td>0</td>\n",
       "    </tr>\n",
       "    <tr>\n",
       "      <th>9997</th>\n",
       "      <td>1</td>\n",
       "      <td>0</td>\n",
       "      <td>1</td>\n",
       "      <td>1</td>\n",
       "      <td>0</td>\n",
       "      <td>1</td>\n",
       "      <td>1</td>\n",
       "      <td>1</td>\n",
       "    </tr>\n",
       "    <tr>\n",
       "      <th>9998</th>\n",
       "      <td>1</td>\n",
       "      <td>1</td>\n",
       "      <td>0</td>\n",
       "      <td>0</td>\n",
       "      <td>1</td>\n",
       "      <td>1</td>\n",
       "      <td>0</td>\n",
       "      <td>1</td>\n",
       "    </tr>\n",
       "    <tr>\n",
       "      <th>9999</th>\n",
       "      <td>0</td>\n",
       "      <td>0</td>\n",
       "      <td>1</td>\n",
       "      <td>1</td>\n",
       "      <td>0</td>\n",
       "      <td>0</td>\n",
       "      <td>0</td>\n",
       "      <td>0</td>\n",
       "    </tr>\n",
       "  </tbody>\n",
       "</table>\n",
       "<p>10000 rows × 8 columns</p>\n",
       "</div>"
      ],
      "text/plain": [
       "      0  1  2  3  4  5  6  7\n",
       "0     1  0  0  1  1  0  0  1\n",
       "1     0  1  1  0  0  1  0  1\n",
       "2     0  1  0  0  0  1  0  1\n",
       "3     1  0  0  0  1  1  0  1\n",
       "4     1  1  0  0  0  1  1  0\n",
       "...  .. .. .. .. .. .. .. ..\n",
       "9995  0  1  1  1  0  1  0  1\n",
       "9996  0  0  1  0  0  0  0  0\n",
       "9997  1  0  1  1  0  1  1  1\n",
       "9998  1  1  0  0  1  1  0  1\n",
       "9999  0  0  1  1  0  0  0  0\n",
       "\n",
       "[10000 rows x 8 columns]"
      ]
     },
     "execution_count": 63,
     "metadata": {},
     "output_type": "execute_result"
    }
   ],
   "source": [
    "#Looking at dataframe\n",
    "pd.DataFrame(coin_flip)"
   ]
  },
  {
   "cell_type": "code",
   "execution_count": 64,
   "metadata": {},
   "outputs": [],
   "source": [
    "coins= coin_flip.sum(axis=1)"
   ]
  },
  {
   "cell_type": "code",
   "execution_count": 65,
   "metadata": {},
   "outputs": [
    {
     "data": {
      "text/plain": [
       "0.2187"
      ]
     },
     "execution_count": 65,
     "metadata": {},
     "output_type": "execute_result"
    }
   ],
   "source": [
    "three_coins= (coins == 3).mean() #answer to get exactly 3 heads\n",
    "\n",
    "three_coins"
   ]
  },
  {
   "cell_type": "code",
   "execution_count": 66,
   "metadata": {},
   "outputs": [
    {
     "data": {
      "text/plain": [
       "0.8521"
      ]
     },
     "execution_count": 66,
     "metadata": {},
     "output_type": "execute_result"
    }
   ],
   "source": [
    "more_than_three_coins= (coins >= 3).mean() #answer for getting more than 3 heads\n",
    "\n",
    "more_than_three_coins"
   ]
  },
  {
   "cell_type": "markdown",
   "metadata": {},
   "source": [
    "# 3. There are approximitely 3 web development cohorts for every 1 data science cohort at Codeup. Assuming that Codeup randomly selects an alumni to put on a billboard, what are the odds that the two billboards I drive past both have data science students on them?\n"
   ]
  },
  {
   "cell_type": "code",
   "execution_count": 68,
   "metadata": {},
   "outputs": [
    {
     "data": {
      "text/plain": [
       "0.0625"
      ]
     },
     "execution_count": 68,
     "metadata": {},
     "output_type": "execute_result"
    }
   ],
   "source": [
    "#Theoretical probability\n",
    "(1/4) * (1/4)"
   ]
  },
  {
   "cell_type": "code",
   "execution_count": 35,
   "metadata": {},
   "outputs": [
    {
     "data": {
      "text/plain": [
       "array([[1, 0],\n",
       "       [1, 0],\n",
       "       [1, 0],\n",
       "       ...,\n",
       "       [0, 0],\n",
       "       [0, 0],\n",
       "       [0, 0]])"
      ]
     },
     "execution_count": 35,
     "metadata": {},
     "output_type": "execute_result"
    }
   ],
   "source": [
    "num_simulations = nrows = 10**6\n",
    "num_ds = ncols = 2\n",
    "ds= 1\n",
    "webDev= 0\n",
    "cohort_outcomes=[ds, webDev]\n",
    "prob= 0.25\n",
    "prob_not= 0.75\n",
    "\n",
    "\n",
    "ds_billb= np.random.choice(cohort_outcomes, nrows * ncols, p=[prob, prob_not]).reshape(nrows, ncols)\n",
    "\n",
    "ds_billb"
   ]
  },
  {
   "cell_type": "code",
   "execution_count": 36,
   "metadata": {},
   "outputs": [
    {
     "data": {
      "text/plain": [
       "array([1, 1, 1, ..., 0, 0, 0])"
      ]
     },
     "execution_count": 36,
     "metadata": {},
     "output_type": "execute_result"
    }
   ],
   "source": [
    "ds_sum=ds_billb.sum(axis=1)\n",
    "\n",
    "ds_sum"
   ]
  },
  {
   "cell_type": "code",
   "execution_count": 37,
   "metadata": {},
   "outputs": [
    {
     "data": {
      "text/plain": [
       "0.06281"
      ]
     },
     "execution_count": 37,
     "metadata": {},
     "output_type": "execute_result"
    }
   ],
   "source": [
    "ds_stu= (ds_sum == 2).mean()\n",
    "\n",
    "ds_stu  #answer"
   ]
  },
  {
   "cell_type": "code",
   "execution_count": 70,
   "metadata": {},
   "outputs": [],
   "source": [
    "# Another solution\n",
    "n_rows= 1_000_000\n",
    "n_cols= 2\n",
    "prob_ds= 0.25"
   ]
  },
  {
   "cell_type": "code",
   "execution_count": 71,
   "metadata": {},
   "outputs": [],
   "source": [
    "data= np.random.random((n_rows, n_cols))"
   ]
  },
  {
   "cell_type": "code",
   "execution_count": 72,
   "metadata": {},
   "outputs": [
    {
     "data": {
      "text/plain": [
       "0.062617"
      ]
     },
     "execution_count": 72,
     "metadata": {},
     "output_type": "execute_result"
    }
   ],
   "source": [
    "((data < prob_ds).sum(axis=1)== 2).mean() "
   ]
  },
  {
   "cell_type": "markdown",
   "metadata": {},
   "source": [
    "# 4. Codeup students buy, on average, 3 poptart packages (+- 1.5) a day from the snack vending machine. If on monday the machine is restocked with 17 poptart packages, how likely is it that I will be able to buy some poptarts on Friday afternoon?\n"
   ]
  },
  {
   "cell_type": "code",
   "execution_count": 46,
   "metadata": {},
   "outputs": [
    {
     "data": {
      "text/plain": [
       "array([[ 2.,  5.,  4.,  5.,  2.],\n",
       "       [ 3.,  3.,  1.,  3., -0.],\n",
       "       [ 4.,  3.,  3.,  4.,  4.],\n",
       "       ...,\n",
       "       [ 4.,  3.,  2.,  2.,  4.],\n",
       "       [-1.,  5.,  3.,  3.,  7.],\n",
       "       [ 2.,  2.,  6.,  4.,  2.]])"
      ]
     },
     "execution_count": 46,
     "metadata": {},
     "output_type": "execute_result"
    }
   ],
   "source": [
    "num_trials=10_000\n",
    "n_days= 5\n",
    "\n",
    "days= np.round(np.random.normal(3, 1.5, size=(num_trials, n_days)))\n",
    "\n",
    "days"
   ]
  },
  {
   "cell_type": "code",
   "execution_count": 47,
   "metadata": {},
   "outputs": [],
   "source": [
    "total_packs = days.sum(axis=1)"
   ]
  },
  {
   "cell_type": "code",
   "execution_count": 48,
   "metadata": {},
   "outputs": [
    {
     "data": {
      "text/plain": [
       "0.6644"
      ]
     },
     "execution_count": 48,
     "metadata": {},
     "output_type": "execute_result"
    }
   ],
   "source": [
    "poptarts = (total_packs < 17).mean()\n",
    "\n",
    "poptarts #answer"
   ]
  },
  {
   "cell_type": "code",
   "execution_count": 76,
   "metadata": {},
   "outputs": [],
   "source": [
    "#Another Solution\n",
    "\n",
    "\n",
    "#avg number of poptarts consumed\n",
    "pop_avg= 3\n",
    "\n",
    "\n",
    "#deviation of potars: 1.5\n",
    "pop_std= 1.5\n",
    "n_cols= 5\n",
    "n_rows= 1_000_000\n",
    "simulated_consumed_potars= np.random.normal(pop_avg, pop_std, size=(n_rows, n_cols))"
   ]
  },
  {
   "cell_type": "code",
   "execution_count": 77,
   "metadata": {},
   "outputs": [
    {
     "data": {
      "text/plain": [
       "array([[4.92526844, 4.471793  , 4.91121263, 3.15586818, 0.84462528],\n",
       "       [0.95625269, 3.44256077, 1.8966128 , 2.46175804, 3.52768746],\n",
       "       [5.39722013, 3.54451962, 3.96673689, 3.32232589, 1.53409514],\n",
       "       ...,\n",
       "       [1.26745194, 3.6325922 , 2.2350405 , 3.16427266, 5.40280924],\n",
       "       [0.99723004, 5.31332466, 3.37608523, 3.13740857, 3.6817667 ],\n",
       "       [2.62861105, 2.87364517, 5.1279711 , 2.93868813, 4.89268576]])"
      ]
     },
     "execution_count": 77,
     "metadata": {},
     "output_type": "execute_result"
    }
   ],
   "source": [
    "simulated_consumed_potars"
   ]
  },
  {
   "cell_type": "code",
   "execution_count": 79,
   "metadata": {},
   "outputs": [
    {
     "name": "stdout",
     "output_type": "stream",
     "text": [
      "The probability that there will still be poptarts in the vending machines after 5 days is 0.724642\n"
     ]
    }
   ],
   "source": [
    "calculated_prob=(simulated_consumed_potars.sum(axis=1) <17).mean()\n",
    "\n",
    "\n",
    "# calculated_prob=(simulated_consumed_potars.sum(axis=1) >=16).mean() #this is another way to do calculated prob that is more realistic b/c this accounts for whole poptarts, commented out so it won't run\n",
    "\n",
    "print(f'The probability that there will still be poptarts in the vending machines after {n_cols} days is {calculated_prob}')"
   ]
  },
  {
   "cell_type": "markdown",
   "metadata": {},
   "source": [
    "# 5. Compare Heights\n",
    "\n",
    "    - Men have an average height of 178 cm and standard deviation of 8cm.\n",
    "    - Women have a mean of 170, sd = 6cm.\n",
    "    - If a man and woman are chosen at random, P(woman taller than man)?"
   ]
  },
  {
   "cell_type": "code",
   "execution_count": 44,
   "metadata": {},
   "outputs": [],
   "source": [
    "men_avg_height=178\n",
    "men_std_dev= 8\n",
    "women_avg_height= 170\n",
    "women_std_dev= 6\n",
    "n_trials= 10**6\n",
    "\n",
    "men_array= np.random.normal(men_avg_height, men_std_dev, n_trials).reshape(n_trials, 1)\n",
    "women_array= np.random.normal(women_avg_height, women_std_dev, n_trials).reshape(n_trials, 1)\n"
   ]
  },
  {
   "cell_type": "code",
   "execution_count": 45,
   "metadata": {},
   "outputs": [
    {
     "data": {
      "text/plain": [
       "array([[174.66344328],\n",
       "       [171.99258417],\n",
       "       [191.70834263],\n",
       "       ...,\n",
       "       [173.56891731],\n",
       "       [189.23691915],\n",
       "       [177.63616849]])"
      ]
     },
     "execution_count": 45,
     "metadata": {},
     "output_type": "execute_result"
    }
   ],
   "source": [
    "men_array"
   ]
  },
  {
   "cell_type": "code",
   "execution_count": 46,
   "metadata": {},
   "outputs": [
    {
     "data": {
      "text/plain": [
       "array([[154.37640507],\n",
       "       [171.25994826],\n",
       "       [163.50510499],\n",
       "       ...,\n",
       "       [164.48768515],\n",
       "       [166.8749218 ],\n",
       "       [176.73607423]])"
      ]
     },
     "execution_count": 46,
     "metadata": {},
     "output_type": "execute_result"
    }
   ],
   "source": [
    "women_array"
   ]
  },
  {
   "cell_type": "code",
   "execution_count": 48,
   "metadata": {},
   "outputs": [
    {
     "data": {
      "text/plain": [
       "array([[20.28703821],\n",
       "       [ 0.7326359 ],\n",
       "       [28.20323764],\n",
       "       ...,\n",
       "       [ 9.08123216],\n",
       "       [22.36199735],\n",
       "       [ 0.90009426]])"
      ]
     },
     "execution_count": 48,
     "metadata": {},
     "output_type": "execute_result"
    }
   ],
   "source": [
    "difference_in_height= men_array - women_array\n",
    "\n",
    "difference_in_height"
   ]
  },
  {
   "cell_type": "code",
   "execution_count": 50,
   "metadata": {},
   "outputs": [
    {
     "data": {
      "text/plain": [
       "0.212182"
      ]
     },
     "execution_count": 50,
     "metadata": {},
     "output_type": "execute_result"
    }
   ],
   "source": [
    "taller_women = (difference_in_height < 0).mean()\n",
    "\n",
    "taller_women  #answer"
   ]
  },
  {
   "cell_type": "markdown",
   "metadata": {},
   "source": [
    " # 6. \n",
    " When installing anaconda on a student's computer, there's a 1 in 250 chance\n",
    "   that the download is corrupted and the installation fails. What are the odds\n",
    "   that after having 50 students download anaconda, no one has an installation\n",
    "   issue?  100 students?\n",
    "\n",
    "    What is the probability that we observe an installation issue within the first\n",
    "    150 students that download anaconda?\n",
    "\n",
    "    How likely is it that 450 students all download anaconda without an issue?\n"
   ]
  },
  {
   "cell_type": "code",
   "execution_count": 4,
   "metadata": {},
   "outputs": [],
   "source": [
    "#50 students\n",
    "nrows= 1_000_000\n",
    "\n",
    "n_cols= 50\n",
    "conda_failure= 1\n",
    "great_success= 0\n",
    "prob_failure= (1/250)"
   ]
  },
  {
   "cell_type": "code",
   "execution_count": 5,
   "metadata": {},
   "outputs": [],
   "source": [
    "installs= np.random.random((nrows, n_cols))"
   ]
  },
  {
   "cell_type": "code",
   "execution_count": 6,
   "metadata": {},
   "outputs": [
    {
     "data": {
      "text/plain": [
       "0.81841"
      ]
     },
     "execution_count": 6,
     "metadata": {},
     "output_type": "execute_result"
    }
   ],
   "source": [
    "((installs < prob_failure).sum(axis=1) == 0).mean()"
   ]
  },
  {
   "cell_type": "code",
   "execution_count": 101,
   "metadata": {},
   "outputs": [],
   "source": [
    "#100 students\n",
    "nrows= 1_000_000\n",
    "\n",
    "n_cols= 100\n",
    "conda_failure= 1\n",
    "great_success= 0\n",
    "prob_failure= (1/250)"
   ]
  },
  {
   "cell_type": "code",
   "execution_count": 106,
   "metadata": {},
   "outputs": [
    {
     "data": {
      "text/plain": [
       "0.004"
      ]
     },
     "execution_count": 106,
     "metadata": {},
     "output_type": "execute_result"
    }
   ],
   "source": [
    "prob_failure"
   ]
  },
  {
   "cell_type": "code",
   "execution_count": 107,
   "metadata": {},
   "outputs": [],
   "source": [
    "installs= np.random.random((nrows, n_cols))"
   ]
  },
  {
   "cell_type": "code",
   "execution_count": 108,
   "metadata": {},
   "outputs": [
    {
     "data": {
      "text/plain": [
       "0.670431"
      ]
     },
     "execution_count": 108,
     "metadata": {},
     "output_type": "execute_result"
    }
   ],
   "source": [
    "((installs < prob_failure).sum(axis=1) == 0).mean()"
   ]
  },
  {
   "cell_type": "code",
   "execution_count": 95,
   "metadata": {},
   "outputs": [],
   "source": [
    "#150 students\n",
    "\n",
    "\n",
    "nrows= 1_000_000\n",
    "\n",
    "n_cols= 150\n",
    "conda_failure= 1\n",
    "great_success= 0\n",
    "prob_failure= (1/250)"
   ]
  },
  {
   "cell_type": "code",
   "execution_count": 96,
   "metadata": {},
   "outputs": [],
   "source": [
    "installs= np.random.random((nrows, n_cols))"
   ]
  },
  {
   "cell_type": "code",
   "execution_count": 97,
   "metadata": {},
   "outputs": [
    {
     "data": {
      "text/plain": [
       "0.451664"
      ]
     },
     "execution_count": 97,
     "metadata": {},
     "output_type": "execute_result"
    }
   ],
   "source": [
    "((installs < prob_failure).sum(axis=1) > 0).mean()"
   ]
  },
  {
   "cell_type": "code",
   "execution_count": 98,
   "metadata": {},
   "outputs": [],
   "source": [
    "# 450 students\n",
    "\n",
    "nrows= 1_000_000\n",
    "\n",
    "n_cols= 450\n",
    "conda_failure= 1\n",
    "great_success= 0\n",
    "prob_failure= (1/250)"
   ]
  },
  {
   "cell_type": "code",
   "execution_count": 99,
   "metadata": {},
   "outputs": [],
   "source": [
    "installs= np.random.random((nrows, n_cols))"
   ]
  },
  {
   "cell_type": "code",
   "execution_count": 100,
   "metadata": {},
   "outputs": [
    {
     "data": {
      "text/plain": [
       "0.164762"
      ]
     },
     "execution_count": 100,
     "metadata": {},
     "output_type": "execute_result"
    }
   ],
   "source": [
    "((installs < prob_failure).sum(axis=1) == 0).mean()"
   ]
  },
  {
   "cell_type": "markdown",
   "metadata": {},
   "source": [
    "# 7. \n",
    "There's a 70% chance on any given day that there will be at least one food\n",
    "   truck at Travis Park. However, you haven't seen a food truck there in 3 days.\n",
    "   How unlikely is this?\n",
    "\n",
    "    How likely is it that a food truck will show up sometime this week?"
   ]
  },
  {
   "cell_type": "code",
   "execution_count": 57,
   "metadata": {},
   "outputs": [
    {
     "data": {
      "text/plain": [
       "array([[1, 0, 0],\n",
       "       [1, 0, 1],\n",
       "       [1, 1, 1],\n",
       "       ...,\n",
       "       [1, 0, 1],\n",
       "       [1, 1, 1],\n",
       "       [1, 1, 1]])"
      ]
     },
     "execution_count": 57,
     "metadata": {},
     "output_type": "execute_result"
    }
   ],
   "source": [
    "n_truck= 0\n",
    "truck= 1 \n",
    "\n",
    "n_trials= n_rows = 10_000\n",
    "n_days = n_cols = 3\n",
    "outcomes = [0,1]\n",
    "truck_prob = 0.7\n",
    "no_truck_prob= 0.3\n",
    "\n",
    "\n",
    "three_days= np.random.choice(outcomes, n_cols * n_rows, p=[no_truck_prob, truck_prob]).reshape(n_rows, n_cols)\n",
    "\n",
    "three_days"
   ]
  },
  {
   "cell_type": "code",
   "execution_count": 58,
   "metadata": {},
   "outputs": [
    {
     "data": {
      "text/plain": [
       "array([1, 2, 3, ..., 2, 3, 3])"
      ]
     },
     "execution_count": 58,
     "metadata": {},
     "output_type": "execute_result"
    }
   ],
   "source": [
    "three_days_sum= three_days.sum(axis=1) \n",
    "\n",
    "three_days_sum"
   ]
  },
  {
   "cell_type": "code",
   "execution_count": 59,
   "metadata": {},
   "outputs": [
    {
     "data": {
      "text/plain": [
       "0.0286"
      ]
     },
     "execution_count": 59,
     "metadata": {},
     "output_type": "execute_result"
    }
   ],
   "source": [
    "bad_luck = (three_days_sum==0).mean()\n",
    "\n",
    "bad_luck  #answer for unlikley"
   ]
  },
  {
   "cell_type": "code",
   "execution_count": 60,
   "metadata": {},
   "outputs": [
    {
     "data": {
      "text/plain": [
       "0.9714"
      ]
     },
     "execution_count": 60,
     "metadata": {},
     "output_type": "execute_result"
    }
   ],
   "source": [
    "good_luck = (three_days_sum > 0).mean()\n",
    "\n",
    "good_luck  #answer for likley"
   ]
  },
  {
   "cell_type": "markdown",
   "metadata": {},
   "source": [
    "# 8. \n",
    "If 23 people are in the same room, what are the odds that two of them share a birthday? What if it's 20 people? 40?"
   ]
  },
  {
   "cell_type": "code",
   "execution_count": 111,
   "metadata": {},
   "outputs": [],
   "source": [
    "# For 23 people\n",
    "\n",
    "outcomes= range(0, 365)\n",
    "\n",
    "n_trials= 23\n",
    "n_simulations= 1_000_000"
   ]
  },
  {
   "cell_type": "code",
   "execution_count": 112,
   "metadata": {},
   "outputs": [],
   "source": [
    "classR= np.random.choice(outcomes, size= (n_simulations, n_trials))"
   ]
  },
  {
   "cell_type": "code",
   "execution_count": 113,
   "metadata": {},
   "outputs": [],
   "source": [
    "list_of_same_bdays= [len(np.unique(classR[n])) for n in range(0, n_simulations-1) if len(np.unique(classR[n]))<23]"
   ]
  },
  {
   "cell_type": "code",
   "execution_count": 115,
   "metadata": {},
   "outputs": [
    {
     "data": {
      "text/plain": [
       "0.506873"
      ]
     },
     "execution_count": 115,
     "metadata": {},
     "output_type": "execute_result"
    }
   ],
   "source": [
    "prob_twinB= len(list_of_same_bdays) / n_simulations\n",
    "\n",
    "prob_twinB"
   ]
  },
  {
   "cell_type": "code",
   "execution_count": 126,
   "metadata": {},
   "outputs": [],
   "source": [
    "# For 20 people\n",
    "\n",
    "outcomes= range(0, 365)\n",
    "\n",
    "n_trials= 20\n",
    "n_simulations= 1_000_000"
   ]
  },
  {
   "cell_type": "code",
   "execution_count": 127,
   "metadata": {},
   "outputs": [],
   "source": [
    "classR2= np.random.choice(outcomes, size= (n_simulations, n_trials))"
   ]
  },
  {
   "cell_type": "code",
   "execution_count": 128,
   "metadata": {},
   "outputs": [],
   "source": [
    "list_of_same_bdays2= [len(np.unique(classR2[n])) for n in range(0, n_simulations-1) if len(np.unique(classR2[n]))<20]"
   ]
  },
  {
   "cell_type": "code",
   "execution_count": 129,
   "metadata": {},
   "outputs": [
    {
     "data": {
      "text/plain": [
       "0.411342"
      ]
     },
     "execution_count": 129,
     "metadata": {},
     "output_type": "execute_result"
    }
   ],
   "source": [
    "prob_twinB2= len(list_of_same_bdays2) / n_simulations\n",
    "\n",
    "prob_twinB2"
   ]
  },
  {
   "cell_type": "code",
   "execution_count": 138,
   "metadata": {},
   "outputs": [],
   "source": [
    "# For 40 people\n",
    "\n",
    "outcomes= range(0, 365)\n",
    "\n",
    "n_trials= 40\n",
    "n_simulations= 1_000_000"
   ]
  },
  {
   "cell_type": "code",
   "execution_count": 139,
   "metadata": {},
   "outputs": [],
   "source": [
    "classroom= np.random.choice(outcomes, size= (n_simulations, n_trials))"
   ]
  },
  {
   "cell_type": "code",
   "execution_count": 140,
   "metadata": {},
   "outputs": [],
   "source": [
    "list_of_same_bdays3= [len(np.unique(classroom[n])) for n in range(0, n_simulations-1) if len(np.unique(classroom[n]))<40]"
   ]
  },
  {
   "cell_type": "code",
   "execution_count": 141,
   "metadata": {},
   "outputs": [
    {
     "data": {
      "text/plain": [
       "0.89095"
      ]
     },
     "execution_count": 141,
     "metadata": {},
     "output_type": "execute_result"
    }
   ],
   "source": [
    "prob_twinB3= len(list_of_same_bdays3) / n_simulations\n",
    "\n",
    "prob_twinB3"
   ]
  }
 ],
 "metadata": {
  "kernelspec": {
   "display_name": "Python 3",
   "language": "python",
   "name": "python3"
  },
  "language_info": {
   "codemirror_mode": {
    "name": "ipython",
    "version": 3
   },
   "file_extension": ".py",
   "mimetype": "text/x-python",
   "name": "python",
   "nbconvert_exporter": "python",
   "pygments_lexer": "ipython3",
   "version": "3.8.5"
  }
 },
 "nbformat": 4,
 "nbformat_minor": 4
}
