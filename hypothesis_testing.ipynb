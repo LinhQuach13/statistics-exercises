{
 "cells": [
  {
   "cell_type": "markdown",
   "metadata": {},
   "source": [
    "Exercises: hypothesis_testing"
   ]
  },
  {
   "cell_type": "markdown",
   "metadata": {},
   "source": [
    "# Sub-questions:\n",
    "    - # do I need to reword the question\n",
    "    - # What are the variables?\n",
    "    - # what type are the variables?\n",
    "    - # formulate null hypothesis?\n",
    "    - # formulate alt hypothesis?\n",
    "    - # example of true positive\n",
    "    - # example of true negative\n",
    "    - # example of type I error\n",
    "    - # example of type II error\n",
    "    - # What type of test(s) would I run?"
   ]
  },
  {
   "cell_type": "markdown",
   "metadata": {},
   "source": [
    "# 1. Has the network latency gone up since we switched internet service providers?"
   ]
  },
  {
   "cell_type": "markdown",
   "metadata": {},
   "source": [
    "## How do I reword the questions?\n",
    "Did latency increase with switch in internet service providers"
   ]
  },
  {
   "cell_type": "markdown",
   "metadata": {},
   "source": [
    "## What are the variables?\n",
    "old_isp\n",
    "new_isp\n",
    "network_latency"
   ]
  },
  {
   "cell_type": "markdown",
   "metadata": {},
   "source": [
    "##  What type are variables?\n",
    "old_isp = categorical/discrete\n",
    "new_isp= categorical/discrete\n",
    "newtwork_latency= numerical/continuous"
   ]
  },
  {
   "cell_type": "markdown",
   "metadata": {},
   "source": [
    "## formulate null hypothesis\n",
    "H0= no stat sig change in network latency since we switched ISPs"
   ]
  },
  {
   "cell_type": "markdown",
   "metadata": {},
   "source": [
    "## formulate alt hypothesis\n",
    "Ha= there has been a sign. change in netowrk latency since we switched ISPs"
   ]
  },
  {
   "cell_type": "markdown",
   "metadata": {},
   "source": [
    "## Example of true positive\n",
    "H0= False\n",
    "There's a sig. change in netowrk latency after switching"
   ]
  },
  {
   "cell_type": "markdown",
   "metadata": {},
   "source": [
    "## Example of True negative\n",
    "H0= True\n",
    "There's no sig. change in netowrk latency after switching"
   ]
  },
  {
   "cell_type": "markdown",
   "metadata": {},
   "source": [
    "##  example of type I error(false positive)\n",
    "\n",
    "H0 = True, but we get data that says H0= False\n",
    "We say there is a sig. change, when actually there is not"
   ]
  },
  {
   "cell_type": "markdown",
   "metadata": {},
   "source": [
    "## example of type 2 error (false negative)\n",
    "H0 = False, but we get data that says H0= True\n",
    "We say there is no sig. change, when actually there is not"
   ]
  },
  {
   "cell_type": "markdown",
   "metadata": {},
   "source": [
    "# 2. Is the website redesign any good?"
   ]
  },
  {
   "cell_type": "markdown",
   "metadata": {},
   "source": [
    "## How do I reword the questions? ## what is quantifiable?\n",
    "Is there a statistical difference in customer statisfaction based on the amount of clicks after redesign?"
   ]
  },
  {
   "cell_type": "markdown",
   "metadata": {},
   "source": [
    "## What are the variables?\n",
    "old_website\n",
    "new_website\n",
    "num_clicks"
   ]
  },
  {
   "cell_type": "markdown",
   "metadata": {},
   "source": [
    "## What type are variables?\n",
    "old_website= categorical/discrete\n",
    "new_website= categorical/discrete\n",
    "num_clicks= numerical/continous"
   ]
  },
  {
   "cell_type": "markdown",
   "metadata": {},
   "source": [
    "## formulate null hypothesis\n",
    "H0= no stat sig change in number of click since the website redesign"
   ]
  },
  {
   "cell_type": "markdown",
   "metadata": {},
   "source": [
    "## formulate alt hypothesis\n",
    "Ha= There is a stat sig change in number of click since the website redesign"
   ]
  },
  {
   "cell_type": "markdown",
   "metadata": {},
   "source": [
    "## Example of true positive\n",
    "H0= True (x does influence y in positive)\n",
    "\n",
    "The avg number of clicks is sig. higher than the other"
   ]
  },
  {
   "cell_type": "markdown",
   "metadata": {},
   "source": [
    "## Example of True negative\n",
    "H0= False (x does influence y in negative)\n",
    "\n",
    "The avg number of clicks is not sig. higher than the other"
   ]
  },
  {
   "cell_type": "markdown",
   "metadata": {},
   "source": [
    "##  Example of type I error (false positive)\n",
    "clicks are higher on the new design, but in reality it just due to more people visiting, unrelated to the design\n"
   ]
  },
  {
   "cell_type": "markdown",
   "metadata": {},
   "source": [
    "## Example of type 2 error (false negative)\n",
    "the redesign doesn't change the number of clicks, but in reality it does increases number of clicks "
   ]
  },
  {
   "cell_type": "markdown",
   "metadata": {},
   "source": [
    "# 3. Is our television ad driving more sales?\n",
    "\n",
    "- # do I need to reword the question\n",
    "Does the television ad affect the number of sales?\n",
    "- # What are the variables?\n",
    "- no_ad\n",
    "- ad\n",
    "- sales\n",
    "\n",
    "- # what type are the variables?\n",
    "- no_ad= categorical/discrete\n",
    "- ad= categorical/discrete\n",
    "- sales= numerical/continuous\n",
    "\n",
    "- # formulate null hypothesis?\n",
    "- TV ad does not affect sales\n",
    "\n",
    "- # formulate alt hypothesis?\n",
    "- TV ad does affect sales\n",
    "\n",
    "- # example of true positive\n",
    "- TV ad did increase the amount of sales\n",
    "\n",
    "- # example of true negative\n",
    "- TV ad did not increase the amount of sales\n",
    "\n",
    "- # example of type I error\n",
    "- Sales have increased but not due to the TV ad, it was due to another factor\n",
    "\n",
    "- # example of type II error\n",
    "- Sales have not increased, but in reality it has increased\n"
   ]
  }
 ],
 "metadata": {
  "kernelspec": {
   "display_name": "Python 3",
   "language": "python",
   "name": "python3"
  },
  "language_info": {
   "codemirror_mode": {
    "name": "ipython",
    "version": 3
   },
   "file_extension": ".py",
   "mimetype": "text/x-python",
   "name": "python",
   "nbconvert_exporter": "python",
   "pygments_lexer": "ipython3",
   "version": "3.8.5"
  }
 },
 "nbformat": 4,
 "nbformat_minor": 4
}
